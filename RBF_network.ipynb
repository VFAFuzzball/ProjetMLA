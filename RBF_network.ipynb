{
 "cells": [
  {
   "cell_type": "markdown",
   "metadata": {},
   "source": [
    "## Implementation of RBF networks and test on adversarial examples"
   ]
  },
  {
   "cell_type": "code",
   "execution_count": 3,
   "metadata": {},
   "outputs": [
    {
     "name": "stderr",
     "output_type": "stream",
     "text": [
      "C:\\Users\\Bounadja Bilal\\AppData\\Local\\Packages\\PythonSoftwareFoundation.Python.3.10_qbz5n2kfra8p0\\LocalCache\\local-packages\\Python310\\site-packages\\tqdm\\auto.py:22: TqdmWarning: IProgress not found. Please update jupyter and ipywidgets. See https://ipywidgets.readthedocs.io/en/stable/user_install.html\n",
      "  from .autonotebook import tqdm as notebook_tqdm\n"
     ]
    }
   ],
   "source": [
    "import matplotlib.pyplot as plt\n",
    "import numpy as np\n",
    "import tensorflow as tf\n",
    "import tensorflow_datasets as tfds\n",
    "import tensorflow_addons as tfa\n",
    "from keras.layers import Layer\n",
    "from keras import backend as K\n"
   ]
  },
  {
   "cell_type": "markdown",
   "metadata": {},
   "source": [
    "## We load MNIST dataset"
   ]
  },
  {
   "cell_type": "code",
   "execution_count": 4,
   "metadata": {},
   "outputs": [],
   "source": [
    "(ds_train, ds_test), ds_info = tfds.load(\n",
    "    'mnist',\n",
    "    split=['train', 'test'],\n",
    "    shuffle_files=True,\n",
    "    as_supervised=True,\n",
    "    with_info=True,\n",
    ")\n",
    "def normalize_img(image, label):\n",
    "  \"\"\"Normalizes images: `uint8` -> `float32`.\"\"\"\n",
    "  return tf.cast(image, tf.float32) / 255., label\n",
    "\n",
    "ds_train = ds_train.map(\n",
    "    normalize_img, num_parallel_calls=tf.data.AUTOTUNE)\n",
    "ds_train = ds_train.cache()\n",
    "ds_train = ds_train.shuffle(ds_info.splits['train'].num_examples)\n",
    "ds_train = ds_train.batch(128)\n",
    "ds_train = ds_train.prefetch(tf.data.AUTOTUNE)\n",
    "\n",
    "ds_test = ds_test.map(\n",
    "    normalize_img, num_parallel_calls=tf.data.AUTOTUNE)\n",
    "ds_test = ds_test.batch(128)\n",
    "ds_test = ds_test.cache()\n",
    "ds_test = ds_test.prefetch(tf.data.AUTOTUNE)"
   ]
  },
  {
   "cell_type": "markdown",
   "metadata": {},
   "source": [
    "## We generate adversarial examples"
   ]
  },
  {
   "cell_type": "code",
   "execution_count": 5,
   "metadata": {},
   "outputs": [],
   "source": [
    "'''def get_adversial_exemple(model, dataset, eps):\n",
    "  adversarial_examples = []\n",
    "  for images, labels in dataset:\n",
    "    with tf.GradientTape() as tape:\n",
    "      tape.watch(images)\n",
    "      predictions = model(images)\n",
    "      labels = tf.expand_dims(labels, 1)\n",
    "      \n",
    "      loss = tf.keras.losses.binary_crossentropy(labels, predictions)\n",
    "    gradient = tape.gradient(loss, images)\n",
    "    signed_grad = tf.sign(gradient)\n",
    "    adversarial_example = images + eps * signed_grad\n",
    "    adversarial_example = tf.clip_by_value(adversarial_example, 0, 1)\n",
    "    adversarial_examples.append(adversarial_example)\n",
    "  return np.concatenate(adversarial_examples,axis=0)'''\n",
    "  \n",
    "  \n",
    "def get_adversial_exemple(model, image, label, eps=0.25):\n",
    "    image = tf.cast(image, tf.float32)\n",
    "    image = tf.expand_dims(image, 0)\n",
    "    with tf.GradientTape() as tape:\n",
    "        tape.watch(image)\n",
    "        prediction = model(image)\n",
    "        loss = tf.keras.losses.sparse_categorical_crossentropy(label, prediction)\n",
    "    gradient = tape.gradient(loss, image)\n",
    "    signed_grad = tf.sign(gradient)\n",
    "    adv_ex = image + eps*signed_grad    \n",
    "    adv_ex = tf.clip_by_value(adv_ex, 0, 1)\n",
    "    return adv_ex"
   ]
  },
  {
   "cell_type": "markdown",
   "metadata": {},
   "source": [
    "## RBF Layer definition"
   ]
  },
  {
   "cell_type": "code",
   "execution_count": 6,
   "metadata": {},
   "outputs": [],
   "source": [
    "\n",
    "\n",
    "\n",
    "class RBFLayer(Layer):\n",
    "    def __init__(self, units, beta, **kwargs):\n",
    "        super(RBFLayer, self).__init__(**kwargs)\n",
    "        self.units = units\n",
    "        self.beta = K.cast_to_floatx(beta)\n",
    "\n",
    "    def build(self, input_shape):\n",
    "#        print(input_shape)\n",
    "#         print(self.units)\n",
    "        self.mu = self.add_weight(name='mu',\n",
    "                                  shape=(int(input_shape[1]), self.units),\n",
    "                                  initializer='uniform',\n",
    "                                  trainable=True)\n",
    "        super(RBFLayer, self).build(input_shape)\n",
    "\n",
    "    def call(self, inputs):\n",
    "        diff = K.expand_dims(inputs) - self.mu\n",
    "        l2 = K.sum(K.pow(diff, 2), axis=1)\n",
    "        return K.exp(-1 * self.beta * l2)\n",
    "\n",
    "    def compute_output_shape(self, input_shape):\n",
    "        return (input_shape[0], self.units)"
   ]
  },
  {
   "cell_type": "markdown",
   "metadata": {},
   "source": [
    "## Implementation of Shallow RBF Network"
   ]
  },
  {
   "cell_type": "code",
   "execution_count": 7,
   "metadata": {},
   "outputs": [],
   "source": [
    "\n",
    "from keras.layers import Dense, Flatten, Dropout\n",
    "from keras.models import Sequential\n",
    "from keras.losses import binary_crossentropy\n",
    "RBF_Shallow = Sequential()\n",
    "RBF_Shallow.add(Flatten(input_shape=(28, 28)))\n",
    "RBF_Shallow.add(RBFLayer(1000, 0.25))\n",
    "\n",
    "RBF_Shallow.add(Dense(10,activation='sigmoid'))\n",
    "\n",
    "RBF_Shallow.compile(optimizer='rmsprop', loss=\"SparseCategoricalCrossentropy\",metrics=['accuracy'])\n"
   ]
  },
  {
   "cell_type": "code",
   "execution_count": null,
   "metadata": {},
   "outputs": [],
   "source": [
    "#RBF_Shallow = tf.keras.models.load_model ('RBFvanilla.h5') "
   ]
  },
  {
   "cell_type": "markdown",
   "metadata": {},
   "source": [
    "Training"
   ]
  },
  {
   "cell_type": "code",
   "execution_count": 24,
   "metadata": {},
   "outputs": [
    {
     "name": "stdout",
     "output_type": "stream",
     "text": [
      "Epoch 1/100\n",
      "469/469 [==============================] - 157s 335ms/step - loss: 0.9048 - accuracy: 0.7266\n",
      "Epoch 2/100\n",
      "469/469 [==============================] - 155s 331ms/step - loss: 0.9041 - accuracy: 0.7256\n",
      "Epoch 3/100\n",
      "469/469 [==============================] - 154s 328ms/step - loss: 0.9037 - accuracy: 0.7258\n",
      "Epoch 4/100\n",
      "469/469 [==============================] - 154s 329ms/step - loss: 0.9030 - accuracy: 0.7264\n",
      "Epoch 5/100\n",
      "469/469 [==============================] - 155s 330ms/step - loss: 0.9024 - accuracy: 0.7259\n",
      "Epoch 6/100\n",
      "469/469 [==============================] - 154s 328ms/step - loss: 0.9017 - accuracy: 0.7283\n",
      "Epoch 7/100\n",
      "469/469 [==============================] - 154s 328ms/step - loss: 0.9011 - accuracy: 0.7268\n",
      "Epoch 8/100\n",
      "469/469 [==============================] - 154s 328ms/step - loss: 0.9005 - accuracy: 0.7286\n",
      "Epoch 9/100\n",
      "469/469 [==============================] - 153s 327ms/step - loss: 0.8999 - accuracy: 0.7273\n",
      "Epoch 10/100\n",
      "469/469 [==============================] - 153s 326ms/step - loss: 0.8991 - accuracy: 0.7283\n",
      "Epoch 11/100\n",
      "469/469 [==============================] - 151s 322ms/step - loss: 0.8986 - accuracy: 0.7269\n",
      "Epoch 12/100\n",
      "469/469 [==============================] - 152s 325ms/step - loss: 0.8981 - accuracy: 0.7290\n",
      "Epoch 13/100\n",
      "410/469 [=========================>....] - ETA: 19s - loss: 0.8974 - accuracy: 0.7286"
     ]
    }
   ],
   "source": [
    "RBF_Shallow.fit(ds_train, batch_size=256, epochs=100)\n",
    "RBF_Shallow.evaluate(ds_test)"
   ]
  },
  {
   "cell_type": "code",
   "execution_count": null,
   "metadata": {},
   "outputs": [],
   "source": [
    "\n",
    "RBF_Shallow.fit(ds_train, batch_size=256, epochs=20)\n",
    "RBF_Shallow.evaluate(ds_test)"
   ]
  },
  {
   "cell_type": "code",
   "execution_count": 21,
   "metadata": {},
   "outputs": [
    {
     "name": "stdout",
     "output_type": "stream",
     "text": [
      "INFO:tensorflow:Assets written to: C:\\Users\\Bounadja Bilal\\Documents\\GitHub\\ProjetMLA\\assets\n"
     ]
    },
    {
     "name": "stderr",
     "output_type": "stream",
     "text": [
      "INFO:tensorflow:Assets written to: C:\\Users\\Bounadja Bilal\\Documents\\GitHub\\ProjetMLA\\assets\n"
     ]
    }
   ],
   "source": [
    "tf.saved_model.save(RBF_Shallow, r'C:\\Users\\Bounadja Bilal\\Documents\\GitHub\\ProjetMLA')"
   ]
  },
  {
   "cell_type": "code",
   "execution_count": 22,
   "metadata": {},
   "outputs": [],
   "source": [
    "\n",
    "# convert tf.data.Dataset to numpy array\n",
    "x_test = np.concatenate([x for x, y in ds_test], axis=0)\n",
    "y_test = np.concatenate([y for x, y in ds_test], axis=0)\n"
   ]
  },
  {
   "cell_type": "markdown",
   "metadata": {},
   "source": [
    "## Evaluation on Adversarial Examples"
   ]
  },
  {
   "cell_type": "code",
   "execution_count": 23,
   "metadata": {},
   "outputs": [
    {
     "name": "stdout",
     "output_type": "stream",
     "text": [
      "313/313 [==============================] - 7s 22ms/step - loss: 2.6302 - accuracy: 0.0984\n",
      "313/313 [==============================] - 7s 22ms/step\n",
      "Accuracy on adversarial examples: 0.09839999675750732 with a mean confidence of 0.26214390993118286\n"
     ]
    }
   ],
   "source": [
    "'''x_test_adv = get_adversial_exemple(RBF_Shallow, ds_test, eps=0.25)\n",
    "loss, accuracy =  RBF_Shallow.evaluate(x_test_adv, y_test)\n",
    "confidence = np.mean(np.max(RBF_Shallow.predict(x_test_adv), axis=1))\n",
    "print(f\"Accuracy on adversarial examples: {accuracy} with a mean confidence of {confidence}\", )'''\n",
    "x_test_adv = [get_adversial_exemple(RBF_Shallow, x, y,eps=0.25).numpy()[0] for x,y in zip(x_test, y_test)]\n",
    "x_test_adv = np.array(x_test_adv)\n",
    "\n",
    "l,a = RBF_Shallow.evaluate(x_test_adv, y_test)\n",
    "c = np.mean(np.max(RBF_Shallow.predict(x_test_adv), axis=1))\n",
    "print(f\"Accuracy on adversarial examples: {a} with a mean confidence of {c}\", )"
   ]
  }
 ],
 "metadata": {
  "kernelspec": {
   "display_name": "Python 3.10.8 64-bit (microsoft store)",
   "language": "python",
   "name": "python3"
  },
  "language_info": {
   "codemirror_mode": {
    "name": "ipython",
    "version": 3
   },
   "file_extension": ".py",
   "mimetype": "text/x-python",
   "name": "python",
   "nbconvert_exporter": "python",
   "pygments_lexer": "ipython3",
   "version": "3.10.9"
  },
  "orig_nbformat": 4,
  "vscode": {
   "interpreter": {
    "hash": "1274c6305ed34a388a50a982e0b0cca469956cd66364a19dc680feb882b62437"
   }
  }
 },
 "nbformat": 4,
 "nbformat_minor": 2
}
