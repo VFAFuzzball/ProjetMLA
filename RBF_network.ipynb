{
 "cells": [
  {
   "cell_type": "markdown",
   "metadata": {},
   "source": [
    "## Implementation of RBF networks and test on adversarial examples"
   ]
  },
  {
   "cell_type": "code",
   "execution_count": 36,
   "metadata": {},
   "outputs": [],
   "source": [
    "import matplotlib.pyplot as plt\n",
    "import numpy as np\n",
    "import tensorflow as tf\n",
    "import tensorflow_datasets as tfds\n",
    "import tensorflow_addons as tfa\n",
    "from keras.layers import Layer\n",
    "from keras import backend as K\n"
   ]
  },
  {
   "cell_type": "code",
   "execution_count": 37,
   "metadata": {},
   "outputs": [],
   "source": [
    "(ds_train, ds_test), ds_info = tfds.load(\n",
    "    'mnist',\n",
    "    split=['train', 'test'],\n",
    "    shuffle_files=True,\n",
    "    as_supervised=True,\n",
    "    with_info=True,\n",
    ")\n",
    "def normalize_img(image, label):\n",
    "  \"\"\"Normalizes images: `uint8` -> `float32`.\"\"\"\n",
    "  return tf.cast(image, tf.float32) / 255., label\n",
    "\n",
    "ds_train = ds_train.map(\n",
    "    normalize_img, num_parallel_calls=tf.data.AUTOTUNE)\n",
    "ds_train = ds_train.cache()\n",
    "ds_train = ds_train.shuffle(ds_info.splits['train'].num_examples)\n",
    "ds_train = ds_train.batch(128)\n",
    "ds_train = ds_train.prefetch(tf.data.AUTOTUNE)\n",
    "\n",
    "ds_test = ds_test.map(\n",
    "    normalize_img, num_parallel_calls=tf.data.AUTOTUNE)\n",
    "ds_test = ds_test.batch(128)\n",
    "ds_test = ds_test.cache()\n",
    "ds_test = ds_test.prefetch(tf.data.AUTOTUNE)"
   ]
  },
  {
   "cell_type": "code",
   "execution_count": 38,
   "metadata": {},
   "outputs": [],
   "source": [
    "def get_adversial_exemple(model, image, label, eps=0.25):\n",
    "    image = tf.cast(image, tf.float32)\n",
    "    image = tf.expand_dims(image, 0)\n",
    "    with tf.GradientTape() as tape:\n",
    "        tape.watch(image)\n",
    "        prediction = model(image)\n",
    "        loss = tf.keras.losses.binary_crossentropy(label, prediction)\n",
    "    gradient = tape.gradient(loss, image)\n",
    "    signed_grad = tf.sign(gradient)\n",
    "    adv_ex = image + eps*signed_grad    \n",
    "    adv_ex = tf.clip_by_value(adv_ex, 0, 1)\n",
    "    return adv_ex"
   ]
  },
  {
   "cell_type": "code",
   "execution_count": 29,
   "metadata": {},
   "outputs": [],
   "source": [
    "\n",
    "\n",
    "\n",
    "class RBFLayer(Layer):\n",
    "    def __init__(self, units, gamma, **kwargs):\n",
    "        super(RBFLayer, self).__init__(**kwargs)\n",
    "        self.units = units\n",
    "        self.gamma = K.cast_to_floatx(gamma)\n",
    "\n",
    "    def build(self, input_shape):\n",
    "#         print(input_shape)\n",
    "#         print(self.units)\n",
    "        self.mu = self.add_weight(name='mu',\n",
    "                                  shape=(int(input_shape[1]), self.units),\n",
    "                                  initializer='uniform',\n",
    "                                  trainable=True)\n",
    "        super(RBFLayer, self).build(input_shape)\n",
    "\n",
    "    def call(self, inputs):\n",
    "        diff = K.expand_dims(inputs) - self.mu\n",
    "        l2 = K.sum(K.pow(diff, 2), axis=1)\n",
    "        return K.exp(-1 * self.gamma * l2)\n",
    "\n",
    "    def compute_output_shape(self, input_shape):\n",
    "        return (input_shape[0], self.units)"
   ]
  },
  {
   "cell_type": "code",
   "execution_count": 30,
   "metadata": {},
   "outputs": [],
   "source": [
    "from keras.layers import Dense, Flatten\n",
    "from keras.models import Sequential\n",
    "from keras.losses import binary_crossentropy\n",
    "RBF_Shallow = Sequential()\n",
    "RBF_Shallow.add(Flatten(input_shape=(28, 28)))\n",
    "RBF_Shallow.add(RBFLayer(10, 0.5))\n",
    "RBF_Shallow.add(Dense(1, activation='sigmoid', name='foo'))\n",
    "\n",
    "RBF_Shallow.compile(optimizer='adam', loss=\"binary_crossentropy\",metrics=['accuracy'])\n"
   ]
  },
  {
   "cell_type": "code",
   "execution_count": 31,
   "metadata": {},
   "outputs": [
    {
     "name": "stdout",
     "output_type": "stream",
     "text": [
      "Epoch 1/3\n",
      "469/469 [==============================] - 3s 5ms/step - loss: -0.2170 - accuracy: 0.1124\n",
      "Epoch 2/3\n",
      "469/469 [==============================] - 3s 5ms/step - loss: -1.9915 - accuracy: 0.1124\n",
      "Epoch 3/3\n",
      "469/469 [==============================] - 3s 5ms/step - loss: -3.7023 - accuracy: 0.1124\n",
      "79/79 [==============================] - 0s 3ms/step - loss: -4.5293 - accuracy: 0.1135\n"
     ]
    },
    {
     "data": {
      "text/plain": [
       "[-4.529333591461182, 0.11349999904632568]"
      ]
     },
     "execution_count": 31,
     "metadata": {},
     "output_type": "execute_result"
    }
   ],
   "source": [
    "RBF_Shallow.fit(ds_train, batch_size=256, epochs=3)\n",
    "RBF_Shallow.evaluate(ds_test)"
   ]
  },
  {
   "cell_type": "code",
   "execution_count": 32,
   "metadata": {},
   "outputs": [],
   "source": [
    "# convert tf.data.Dataset to numpy array\n",
    "x_test = np.concatenate([x for x, y in ds_test], axis=0)\n",
    "y_test = np.concatenate([y for x, y in ds_test], axis=0)\n"
   ]
  },
  {
   "cell_type": "code",
   "execution_count": 35,
   "metadata": {},
   "outputs": [
    {
     "ename": "ValueError",
     "evalue": "`logits` and `labels` must have the same shape, received ((1, 1) vs ()).",
     "output_type": "error",
     "traceback": [
      "\u001b[1;31m---------------------------------------------------------------------------\u001b[0m",
      "\u001b[1;31mValueError\u001b[0m                                Traceback (most recent call last)",
      "Cell \u001b[1;32mIn [35], line 1\u001b[0m\n\u001b[1;32m----> 1\u001b[0m x_test_adv \u001b[39m=\u001b[39m [get_adversial_exemple(RBF_Shallow, x, y,eps\u001b[39m=\u001b[39m\u001b[39m0.25\u001b[39m)\u001b[39m.\u001b[39mnumpy()[\u001b[39m0\u001b[39m] \u001b[39mfor\u001b[39;00m x,y \u001b[39min\u001b[39;00m \u001b[39mzip\u001b[39m(x_test, y_test)]\n\u001b[0;32m      2\u001b[0m x_test_adv \u001b[39m=\u001b[39m np\u001b[39m.\u001b[39marray(x_test_adv)\n\u001b[0;32m      4\u001b[0m l,a \u001b[39m=\u001b[39m  RBF_Shallow\u001b[39m.\u001b[39mevaluate(x_test_adv, y_test)\n",
      "Cell \u001b[1;32mIn [35], line 1\u001b[0m, in \u001b[0;36m<listcomp>\u001b[1;34m(.0)\u001b[0m\n\u001b[1;32m----> 1\u001b[0m x_test_adv \u001b[39m=\u001b[39m [get_adversial_exemple(RBF_Shallow, x, y,eps\u001b[39m=\u001b[39;49m\u001b[39m0.25\u001b[39;49m)\u001b[39m.\u001b[39mnumpy()[\u001b[39m0\u001b[39m] \u001b[39mfor\u001b[39;00m x,y \u001b[39min\u001b[39;00m \u001b[39mzip\u001b[39m(x_test, y_test)]\n\u001b[0;32m      2\u001b[0m x_test_adv \u001b[39m=\u001b[39m np\u001b[39m.\u001b[39marray(x_test_adv)\n\u001b[0;32m      4\u001b[0m l,a \u001b[39m=\u001b[39m  RBF_Shallow\u001b[39m.\u001b[39mevaluate(x_test_adv, y_test)\n",
      "Cell \u001b[1;32mIn [34], line 7\u001b[0m, in \u001b[0;36mget_adversial_exemple\u001b[1;34m(model, image, label, eps)\u001b[0m\n\u001b[0;32m      5\u001b[0m     tape\u001b[39m.\u001b[39mwatch(image)\n\u001b[0;32m      6\u001b[0m     prediction \u001b[39m=\u001b[39m model(image)\n\u001b[1;32m----> 7\u001b[0m     loss \u001b[39m=\u001b[39m tf\u001b[39m.\u001b[39;49mkeras\u001b[39m.\u001b[39;49mlosses\u001b[39m.\u001b[39;49mbinary_crossentropy(label, prediction)\n\u001b[0;32m      8\u001b[0m gradient \u001b[39m=\u001b[39m tape\u001b[39m.\u001b[39mgradient(loss, image)\n\u001b[0;32m      9\u001b[0m signed_grad \u001b[39m=\u001b[39m tf\u001b[39m.\u001b[39msign(gradient)\n",
      "File \u001b[1;32m~\\AppData\\Local\\Packages\\PythonSoftwareFoundation.Python.3.10_qbz5n2kfra8p0\\LocalCache\\local-packages\\Python310\\site-packages\\tensorflow\\python\\util\\traceback_utils.py:153\u001b[0m, in \u001b[0;36mfilter_traceback.<locals>.error_handler\u001b[1;34m(*args, **kwargs)\u001b[0m\n\u001b[0;32m    151\u001b[0m \u001b[39mexcept\u001b[39;00m \u001b[39mException\u001b[39;00m \u001b[39mas\u001b[39;00m e:\n\u001b[0;32m    152\u001b[0m   filtered_tb \u001b[39m=\u001b[39m _process_traceback_frames(e\u001b[39m.\u001b[39m__traceback__)\n\u001b[1;32m--> 153\u001b[0m   \u001b[39mraise\u001b[39;00m e\u001b[39m.\u001b[39mwith_traceback(filtered_tb) \u001b[39mfrom\u001b[39;00m \u001b[39mNone\u001b[39m\n\u001b[0;32m    154\u001b[0m \u001b[39mfinally\u001b[39;00m:\n\u001b[0;32m    155\u001b[0m   \u001b[39mdel\u001b[39;00m filtered_tb\n",
      "File \u001b[1;32m~\\AppData\\Local\\Packages\\PythonSoftwareFoundation.Python.3.10_qbz5n2kfra8p0\\LocalCache\\local-packages\\Python310\\site-packages\\keras\\losses.py:2162\u001b[0m, in \u001b[0;36mbinary_crossentropy\u001b[1;34m(y_true, y_pred, from_logits, label_smoothing, axis)\u001b[0m\n\u001b[0;32m   2155\u001b[0m     \u001b[39mreturn\u001b[39;00m y_true \u001b[39m*\u001b[39m (\u001b[39m1.0\u001b[39m \u001b[39m-\u001b[39m label_smoothing) \u001b[39m+\u001b[39m \u001b[39m0.5\u001b[39m \u001b[39m*\u001b[39m label_smoothing\n\u001b[0;32m   2157\u001b[0m y_true \u001b[39m=\u001b[39m tf\u001b[39m.\u001b[39m__internal__\u001b[39m.\u001b[39msmart_cond\u001b[39m.\u001b[39msmart_cond(\n\u001b[0;32m   2158\u001b[0m     label_smoothing, _smooth_labels, \u001b[39mlambda\u001b[39;00m: y_true\n\u001b[0;32m   2159\u001b[0m )\n\u001b[0;32m   2161\u001b[0m \u001b[39mreturn\u001b[39;00m backend\u001b[39m.\u001b[39mmean(\n\u001b[1;32m-> 2162\u001b[0m     backend\u001b[39m.\u001b[39;49mbinary_crossentropy(y_true, y_pred, from_logits\u001b[39m=\u001b[39;49mfrom_logits),\n\u001b[0;32m   2163\u001b[0m     axis\u001b[39m=\u001b[39maxis,\n\u001b[0;32m   2164\u001b[0m )\n",
      "File \u001b[1;32m~\\AppData\\Local\\Packages\\PythonSoftwareFoundation.Python.3.10_qbz5n2kfra8p0\\LocalCache\\local-packages\\Python310\\site-packages\\keras\\backend.py:5677\u001b[0m, in \u001b[0;36mbinary_crossentropy\u001b[1;34m(target, output, from_logits)\u001b[0m\n\u001b[0;32m   5673\u001b[0m output, from_logits \u001b[39m=\u001b[39m _get_logits(\n\u001b[0;32m   5674\u001b[0m     output, from_logits, \u001b[39m\"\u001b[39m\u001b[39mSigmoid\u001b[39m\u001b[39m\"\u001b[39m, \u001b[39m\"\u001b[39m\u001b[39mbinary_crossentropy\u001b[39m\u001b[39m\"\u001b[39m\n\u001b[0;32m   5675\u001b[0m )\n\u001b[0;32m   5676\u001b[0m \u001b[39mif\u001b[39;00m from_logits:\n\u001b[1;32m-> 5677\u001b[0m     \u001b[39mreturn\u001b[39;00m tf\u001b[39m.\u001b[39;49mnn\u001b[39m.\u001b[39;49msigmoid_cross_entropy_with_logits(\n\u001b[0;32m   5678\u001b[0m         labels\u001b[39m=\u001b[39;49mtarget, logits\u001b[39m=\u001b[39;49moutput\n\u001b[0;32m   5679\u001b[0m     )\n\u001b[0;32m   5681\u001b[0m epsilon_ \u001b[39m=\u001b[39m _constant_to_tensor(epsilon(), output\u001b[39m.\u001b[39mdtype\u001b[39m.\u001b[39mbase_dtype)\n\u001b[0;32m   5682\u001b[0m output \u001b[39m=\u001b[39m tf\u001b[39m.\u001b[39mclip_by_value(output, epsilon_, \u001b[39m1.0\u001b[39m \u001b[39m-\u001b[39m epsilon_)\n",
      "\u001b[1;31mValueError\u001b[0m: `logits` and `labels` must have the same shape, received ((1, 1) vs ())."
     ]
    }
   ],
   "source": [
    "x_test_adv = [get_adversial_exemple(RBF_Shallow, x, y,eps=0.25).numpy()[0] for x,y in zip(x_test, y_test)]\n",
    "x_test_adv = np.array(x_test_adv)\n",
    "\n",
    "l,a =  RBF_Shallow.evaluate(x_test_adv, y_test)\n",
    "c = np.mean(np.max(RBF_Shallow.predict(x_test_adv), axis=1))\n",
    "print(f\"Accuracy on adversarial examples: {a} with a mean confidence of {c}\", )"
   ]
  }
 ],
 "metadata": {
  "kernelspec": {
   "display_name": "Python 3.10.8 64-bit (microsoft store)",
   "language": "python",
   "name": "python3"
  },
  "language_info": {
   "codemirror_mode": {
    "name": "ipython",
    "version": 3
   },
   "file_extension": ".py",
   "mimetype": "text/x-python",
   "name": "python",
   "nbconvert_exporter": "python",
   "pygments_lexer": "ipython3",
   "version": "3.10.8"
  },
  "orig_nbformat": 4,
  "vscode": {
   "interpreter": {
    "hash": "1274c6305ed34a388a50a982e0b0cca469956cd66364a19dc680feb882b62437"
   }
  }
 },
 "nbformat": 4,
 "nbformat_minor": 2
}
