{
 "cells": [
  {
   "cell_type": "markdown",
   "metadata": {},
   "source": [
    "## Implementation of RBF networks and test on adversarial examples"
   ]
  },
  {
   "cell_type": "code",
   "execution_count": 60,
   "metadata": {},
   "outputs": [],
   "source": [
    "import matplotlib.pyplot as plt\n",
    "import numpy as np\n",
    "import tensorflow as tf\n",
    "import tensorflow_datasets as tfds\n",
    "import tensorflow_addons as tfa\n",
    "from keras.layers import Layer\n",
    "from keras import backend as K\n"
   ]
  },
  {
   "cell_type": "markdown",
   "metadata": {},
   "source": [
    "## We load MNIST dataset"
   ]
  },
  {
   "cell_type": "code",
   "execution_count": 61,
   "metadata": {},
   "outputs": [],
   "source": [
    "(ds_train, ds_test), ds_info = tfds.load(\n",
    "    'mnist',\n",
    "    split=['train', 'test'],\n",
    "    shuffle_files=True,\n",
    "    as_supervised=True,\n",
    "    with_info=True,\n",
    ")\n",
    "def normalize_img(image, label):\n",
    "  \"\"\"Normalizes images: `uint8` -> `float32`.\"\"\"\n",
    "  return tf.cast(image, tf.float32) / 255., label\n",
    "\n",
    "ds_train = ds_train.map(\n",
    "    normalize_img, num_parallel_calls=tf.data.AUTOTUNE)\n",
    "ds_train = ds_train.cache()\n",
    "ds_train = ds_train.shuffle(ds_info.splits['train'].num_examples)\n",
    "ds_train = ds_train.batch(128)\n",
    "ds_train = ds_train.prefetch(tf.data.AUTOTUNE)\n",
    "\n",
    "ds_test = ds_test.map(\n",
    "    normalize_img, num_parallel_calls=tf.data.AUTOTUNE)\n",
    "ds_test = ds_test.batch(128)\n",
    "ds_test = ds_test.cache()\n",
    "ds_test = ds_test.prefetch(tf.data.AUTOTUNE)"
   ]
  },
  {
   "cell_type": "markdown",
   "metadata": {},
   "source": [
    "## We generate adversarial examples"
   ]
  },
  {
   "cell_type": "code",
   "execution_count": 62,
   "metadata": {},
   "outputs": [],
   "source": [
    "def get_adversial_exemple(model, dataset, eps):\n",
    "  adversarial_examples = []\n",
    "  for images, labels in dataset:\n",
    "    with tf.GradientTape() as tape:\n",
    "      tape.watch(images)\n",
    "      predictions = model(images)\n",
    "      labels = tf.expand_dims(labels, 1)\n",
    "      \n",
    "      loss = tf.keras.losses.binary_crossentropy(labels, predictions)\n",
    "    gradient = tape.gradient(loss, images)\n",
    "    signed_grad = tf.sign(gradient)\n",
    "    adversarial_example = images + eps * signed_grad\n",
    "    adversarial_example = tf.clip_by_value(adversarial_example, 0, 1)\n",
    "    adversarial_examples.append(adversarial_example)\n",
    "  return np.concatenate(adversarial_examples,axis=0)"
   ]
  },
  {
   "cell_type": "markdown",
   "metadata": {},
   "source": [
    "## RBF Layer definition"
   ]
  },
  {
   "cell_type": "code",
   "execution_count": 63,
   "metadata": {},
   "outputs": [],
   "source": [
    "\n",
    "\n",
    "\n",
    "class RBFLayer(Layer):\n",
    "    def __init__(self, units, gamma, **kwargs):\n",
    "        super(RBFLayer, self).__init__(**kwargs)\n",
    "        self.units = units\n",
    "        self.gamma = K.cast_to_floatx(gamma)\n",
    "\n",
    "    def build(self, input_shape):\n",
    "#         print(input_shape)\n",
    "#         print(self.units)\n",
    "        self.mu = self.add_weight(name='mu',\n",
    "                                  shape=(int(input_shape[1]), self.units),\n",
    "                                  initializer='uniform',\n",
    "                                  trainable=True)\n",
    "        super(RBFLayer, self).build(input_shape)\n",
    "\n",
    "    def call(self, inputs):\n",
    "        diff = K.expand_dims(inputs) - self.mu\n",
    "        l2 = K.sum(K.pow(diff, 2), axis=1)\n",
    "        return K.exp(-1 * self.gamma * l2)\n",
    "\n",
    "    def compute_output_shape(self, input_shape):\n",
    "        return (input_shape[0], self.units)"
   ]
  },
  {
   "cell_type": "markdown",
   "metadata": {},
   "source": [
    "## Implementation of Shallow RBF Network"
   ]
  },
  {
   "cell_type": "code",
   "execution_count": 66,
   "metadata": {},
   "outputs": [],
   "source": [
    "from keras.layers import Dense, Flatten, Dropout\n",
    "from keras.models import Sequential\n",
    "from keras.losses import binary_crossentropy\n",
    "RBF_Shallow = Sequential()\n",
    "RBF_Shallow.add(Flatten(input_shape=(28, 28)))\n",
    "RBF_Shallow.add(RBFLayer(10, 0.5))\n",
    "RBF_Shallow.add(Dense(1, activation='sigmoid', name='foo'))\n",
    "\n",
    "RBF_Shallow.compile(optimizer='rmsprop', loss=\"binary_crossentropy\",metrics=['accuracy'])\n"
   ]
  },
  {
   "cell_type": "markdown",
   "metadata": {},
   "source": [
    "Training"
   ]
  },
  {
   "cell_type": "code",
   "execution_count": 67,
   "metadata": {},
   "outputs": [
    {
     "name": "stdout",
     "output_type": "stream",
     "text": [
      "Epoch 1/3\n",
      "469/469 [==============================] - 2s 3ms/step - loss: -0.2542 - accuracy: 0.1122\n",
      "Epoch 2/3\n",
      "469/469 [==============================] - 1s 2ms/step - loss: -2.0514 - accuracy: 0.1124\n",
      "Epoch 3/3\n",
      "469/469 [==============================] - 1s 2ms/step - loss: -3.7977 - accuracy: 0.1124\n",
      "79/79 [==============================] - 0s 1ms/step - loss: -4.6451 - accuracy: 0.1135\n"
     ]
    },
    {
     "data": {
      "text/plain": [
       "[-4.645104885101318, 0.11349999904632568]"
      ]
     },
     "execution_count": 67,
     "metadata": {},
     "output_type": "execute_result"
    }
   ],
   "source": [
    "RBF_Shallow.fit(ds_train, batch_size=256, epochs=3)\n",
    "RBF_Shallow.evaluate(ds_test)"
   ]
  },
  {
   "cell_type": "code",
   "execution_count": 68,
   "metadata": {},
   "outputs": [],
   "source": [
    "# convert tf.data.Dataset to numpy array\n",
    "x_test = np.concatenate([x for x, y in ds_test], axis=0)\n",
    "y_test = np.concatenate([y for x, y in ds_test], axis=0)\n"
   ]
  },
  {
   "cell_type": "markdown",
   "metadata": {},
   "source": [
    "## Evaluation on Adversarial Examples"
   ]
  },
  {
   "cell_type": "code",
   "execution_count": 69,
   "metadata": {},
   "outputs": [
    {
     "name": "stdout",
     "output_type": "stream",
     "text": [
      "313/313 [==============================] - 0s 866us/step - loss: -4.6451 - accuracy: 0.1135\n",
      "313/313 [==============================] - 0s 756us/step\n",
      "Accuracy on adversarial examples: 0.11349999904632568 with a mean confidence of 0.8041274547576904\n"
     ]
    },
    {
     "ename": "",
     "evalue": "",
     "output_type": "error",
     "traceback": [
      "\u001b[1;31mLe Kernel s’est bloqué lors de l’exécution du code dans la cellule active ou une cellule précédente. Veuillez vérifier le code dans la ou les cellules pour identifier une cause possible de l’échec. Cliquez <a href='https://aka.ms/vscodeJupyterKernelCrash'>ici</a> pour plus d’informations. Pour plus d’informations, consultez Jupyter <a href='command:jupyter.viewOutput'>log</a>."
     ]
    }
   ],
   "source": [
    "x_test_adv = get_adversial_exemple(RBF_Shallow, ds_test, eps=0.25)\n",
    "loss, accuracy =  RBF_Shallow.evaluate(x_test_adv, y_test)\n",
    "confidence = np.mean(np.max(RBF_Shallow.predict(x_test_adv), axis=1))\n",
    "print(f\"Accuracy on adversarial examples: {accuracy} with a mean confidence of {confidence}\", )\n"
   ]
  }
 ],
 "metadata": {
  "kernelspec": {
   "display_name": "Python 3.10.8 64-bit (microsoft store)",
   "language": "python",
   "name": "python3"
  },
  "language_info": {
   "codemirror_mode": {
    "name": "ipython",
    "version": 3
   },
   "file_extension": ".py",
   "mimetype": "text/x-python",
   "name": "python",
   "nbconvert_exporter": "python",
   "pygments_lexer": "ipython3",
   "version": "3.10.8"
  },
  "orig_nbformat": 4,
  "vscode": {
   "interpreter": {
    "hash": "1274c6305ed34a388a50a982e0b0cca469956cd66364a19dc680feb882b62437"
   }
  }
 },
 "nbformat": 4,
 "nbformat_minor": 2
}
